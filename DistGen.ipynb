{
 "cells": [
  {
   "cell_type": "code",
   "execution_count": 1,
   "metadata": {
    "collapsed": true
   },
   "outputs": [],
   "source": [
    "import pandas as pd\n",
    "df = pd.DataFrame([1236,1311,1368,1417,1461,1504,1552,1609,1691])"
   ]
  },
  {
   "cell_type": "code",
   "execution_count": 2,
   "metadata": {
    "collapsed": false
   },
   "outputs": [
    {
     "data": {
      "text/html": [
       "<div>\n",
       "<style scoped>\n",
       "    .dataframe tbody tr th:only-of-type {\n",
       "        vertical-align: middle;\n",
       "    }\n",
       "\n",
       "    .dataframe tbody tr th {\n",
       "        vertical-align: top;\n",
       "    }\n",
       "\n",
       "    .dataframe thead th {\n",
       "        text-align: right;\n",
       "    }\n",
       "</style>\n",
       "<table border=\"1\" class=\"dataframe\">\n",
       "  <thead>\n",
       "    <tr style=\"text-align: right;\">\n",
       "      <th></th>\n",
       "      <th>0</th>\n",
       "    </tr>\n",
       "  </thead>\n",
       "  <tbody>\n",
       "    <tr>\n",
       "      <th>0</th>\n",
       "      <td>1236</td>\n",
       "    </tr>\n",
       "    <tr>\n",
       "      <th>1</th>\n",
       "      <td>1311</td>\n",
       "    </tr>\n",
       "    <tr>\n",
       "      <th>2</th>\n",
       "      <td>1368</td>\n",
       "    </tr>\n",
       "    <tr>\n",
       "      <th>3</th>\n",
       "      <td>1417</td>\n",
       "    </tr>\n",
       "    <tr>\n",
       "      <th>4</th>\n",
       "      <td>1461</td>\n",
       "    </tr>\n",
       "    <tr>\n",
       "      <th>5</th>\n",
       "      <td>1504</td>\n",
       "    </tr>\n",
       "    <tr>\n",
       "      <th>6</th>\n",
       "      <td>1552</td>\n",
       "    </tr>\n",
       "    <tr>\n",
       "      <th>7</th>\n",
       "      <td>1609</td>\n",
       "    </tr>\n",
       "    <tr>\n",
       "      <th>8</th>\n",
       "      <td>1691</td>\n",
       "    </tr>\n",
       "  </tbody>\n",
       "</table>\n",
       "</div>"
      ],
      "text/plain": [
       "      0\n",
       "0  1236\n",
       "1  1311\n",
       "2  1368\n",
       "3  1417\n",
       "4  1461\n",
       "5  1504\n",
       "6  1552\n",
       "7  1609\n",
       "8  1691"
      ]
     },
     "execution_count": 2,
     "metadata": {},
     "output_type": "execute_result"
    }
   ],
   "source": [
    "df"
   ]
  },
  {
   "cell_type": "code",
   "execution_count": 24,
   "metadata": {
    "collapsed": true
   },
   "outputs": [],
   "source": [
    "points = []"
   ]
  },
  {
   "cell_type": "code",
   "execution_count": 25,
   "metadata": {
    "collapsed": false
   },
   "outputs": [
    {
     "data": {
      "text/plain": [
       "1235"
      ]
     },
     "execution_count": 25,
     "metadata": {},
     "output_type": "execute_result"
    }
   ],
   "source": [
    "df.loc[0][0]-1"
   ]
  },
  {
   "cell_type": "code",
   "execution_count": 26,
   "metadata": {
    "collapsed": false
   },
   "outputs": [
    {
     "data": {
      "text/plain": [
       "[1211,\n",
       " 1211,\n",
       " 1211,\n",
       " 1211,\n",
       " 1211,\n",
       " 1211,\n",
       " 1211,\n",
       " 1211,\n",
       " 1211,\n",
       " 1211,\n",
       " 1286,\n",
       " 1286,\n",
       " 1286,\n",
       " 1286,\n",
       " 1286,\n",
       " 1286,\n",
       " 1286,\n",
       " 1286,\n",
       " 1286,\n",
       " 1286,\n",
       " 1343,\n",
       " 1343,\n",
       " 1343,\n",
       " 1343,\n",
       " 1343,\n",
       " 1343,\n",
       " 1343,\n",
       " 1343,\n",
       " 1343,\n",
       " 1343,\n",
       " 1392,\n",
       " 1392,\n",
       " 1392,\n",
       " 1392,\n",
       " 1392,\n",
       " 1392,\n",
       " 1392,\n",
       " 1392,\n",
       " 1392,\n",
       " 1392,\n",
       " 1436,\n",
       " 1436,\n",
       " 1436,\n",
       " 1436,\n",
       " 1436,\n",
       " 1436,\n",
       " 1436,\n",
       " 1436,\n",
       " 1436,\n",
       " 1436,\n",
       " 1479,\n",
       " 1479,\n",
       " 1479,\n",
       " 1479,\n",
       " 1479,\n",
       " 1479,\n",
       " 1479,\n",
       " 1479,\n",
       " 1479,\n",
       " 1479,\n",
       " 1527,\n",
       " 1527,\n",
       " 1527,\n",
       " 1527,\n",
       " 1527,\n",
       " 1527,\n",
       " 1527,\n",
       " 1527,\n",
       " 1527,\n",
       " 1527,\n",
       " 1584,\n",
       " 1584,\n",
       " 1584,\n",
       " 1584,\n",
       " 1584,\n",
       " 1584,\n",
       " 1584,\n",
       " 1584,\n",
       " 1584,\n",
       " 1584,\n",
       " 1666,\n",
       " 1666,\n",
       " 1666,\n",
       " 1666,\n",
       " 1666,\n",
       " 1666,\n",
       " 1666,\n",
       " 1666,\n",
       " 1666,\n",
       " 1666]"
      ]
     },
     "execution_count": 26,
     "metadata": {},
     "output_type": "execute_result"
    }
   ],
   "source": [
    "for j in range(0,9):\n",
    "    for i in range(0,10):\n",
    "        points.append(df.loc[j][0]-25)\n",
    "points"
   ]
  },
  {
   "cell_type": "code",
   "execution_count": 27,
   "metadata": {
    "collapsed": false
   },
   "outputs": [],
   "source": [
    "for i in range(0,10):\n",
    "        points.append(df.loc[8][0]+50)"
   ]
  },
  {
   "cell_type": "code",
   "execution_count": 28,
   "metadata": {
    "collapsed": false
   },
   "outputs": [
    {
     "data": {
      "text/plain": [
       "[1211,\n",
       " 1211,\n",
       " 1211,\n",
       " 1211,\n",
       " 1211,\n",
       " 1211,\n",
       " 1211,\n",
       " 1211,\n",
       " 1211,\n",
       " 1211,\n",
       " 1286,\n",
       " 1286,\n",
       " 1286,\n",
       " 1286,\n",
       " 1286,\n",
       " 1286,\n",
       " 1286,\n",
       " 1286,\n",
       " 1286,\n",
       " 1286,\n",
       " 1343,\n",
       " 1343,\n",
       " 1343,\n",
       " 1343,\n",
       " 1343,\n",
       " 1343,\n",
       " 1343,\n",
       " 1343,\n",
       " 1343,\n",
       " 1343,\n",
       " 1392,\n",
       " 1392,\n",
       " 1392,\n",
       " 1392,\n",
       " 1392,\n",
       " 1392,\n",
       " 1392,\n",
       " 1392,\n",
       " 1392,\n",
       " 1392,\n",
       " 1436,\n",
       " 1436,\n",
       " 1436,\n",
       " 1436,\n",
       " 1436,\n",
       " 1436,\n",
       " 1436,\n",
       " 1436,\n",
       " 1436,\n",
       " 1436,\n",
       " 1479,\n",
       " 1479,\n",
       " 1479,\n",
       " 1479,\n",
       " 1479,\n",
       " 1479,\n",
       " 1479,\n",
       " 1479,\n",
       " 1479,\n",
       " 1479,\n",
       " 1527,\n",
       " 1527,\n",
       " 1527,\n",
       " 1527,\n",
       " 1527,\n",
       " 1527,\n",
       " 1527,\n",
       " 1527,\n",
       " 1527,\n",
       " 1527,\n",
       " 1584,\n",
       " 1584,\n",
       " 1584,\n",
       " 1584,\n",
       " 1584,\n",
       " 1584,\n",
       " 1584,\n",
       " 1584,\n",
       " 1584,\n",
       " 1584,\n",
       " 1666,\n",
       " 1666,\n",
       " 1666,\n",
       " 1666,\n",
       " 1666,\n",
       " 1666,\n",
       " 1666,\n",
       " 1666,\n",
       " 1666,\n",
       " 1666,\n",
       " 1741,\n",
       " 1741,\n",
       " 1741,\n",
       " 1741,\n",
       " 1741,\n",
       " 1741,\n",
       " 1741,\n",
       " 1741,\n",
       " 1741,\n",
       " 1741]"
      ]
     },
     "execution_count": 28,
     "metadata": {},
     "output_type": "execute_result"
    }
   ],
   "source": [
    "points"
   ]
  },
  {
   "cell_type": "code",
   "execution_count": 29,
   "metadata": {
    "collapsed": false
   },
   "outputs": [
    {
     "data": {
      "text/plain": [
       "100"
      ]
     },
     "execution_count": 29,
     "metadata": {},
     "output_type": "execute_result"
    }
   ],
   "source": [
    "len(points)"
   ]
  },
  {
   "cell_type": "code",
   "execution_count": 30,
   "metadata": {
    "collapsed": false
   },
   "outputs": [
    {
     "data": {
      "text/plain": [
       "<seaborn.axisgrid.FacetGrid at 0x1b836ac2308>"
      ]
     },
     "execution_count": 30,
     "metadata": {},
     "output_type": "execute_result"
    },
    {
     "data": {
      "image/png": "[encoded data removed]",
      "text/plain": [
       "<Figure size 360x360 with 1 Axes>"
      ]
     },
     "metadata": {
      "needs_background": "light"
     },
     "output_type": "display_data"
    }
   ],
   "source": [
    "import seaborn as sns\n",
    "sns.displot(points,kind=\"kde\")"
   ]
  },
  {
   "cell_type": "code",
   "execution_count": null,
   "metadata": {
    "collapsed": true
   },
   "outputs": [],
   "source": []
  }
 ],
 "metadata": {
  "anaconda-cloud": {},
  "kernelspec": {
   "display_name": "Python [conda env:py37]",
   "language": "python",
   "name": "conda-env-py37-py"
  },
  "language_info": {
   "codemirror_mode": {
    "name": "ipython",
    "version": 3
   },
   "file_extension": ".py",
   "mimetype": "text/x-python",
   "name": "python",
   "nbconvert_exporter": "python",
   "pygments_lexer": "ipython3",
   "version": "3.7.9"
  }
 },
 "nbformat": 4,
 "nbformat_minor": 1
}
